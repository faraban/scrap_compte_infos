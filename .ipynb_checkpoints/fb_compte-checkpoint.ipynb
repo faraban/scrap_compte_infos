{
 "cells": [
  {
   "cell_type": "code",
   "execution_count": 260,
   "id": "4abef97a",
   "metadata": {},
   "outputs": [],
   "source": [
    "import pandas as pd\n",
    "import numpy as np\n",
    "from time import sleep\n",
    "from selenium import webdriver\n",
    "from selenium.webdriver.common.by import By\n",
    "from selenium.webdriver.common.keys import Keys\n",
    "from bs4 import BeautifulSoup as bs\n",
    "import requests as req"
   ]
  },
  {
   "cell_type": "code",
   "execution_count": 261,
   "id": "afa8a815",
   "metadata": {},
   "outputs": [
    {
     "data": {
      "text/plain": [
       "'x1yztbdb.x1d52u69.xktsk01'"
      ]
     },
     "execution_count": 261,
     "metadata": {},
     "output_type": "execute_result"
    }
   ],
   "source": [
    "a='x1yztbdb x1d52u69 xktsk01'\n",
    "a.replace(' ','.')"
   ]
  },
  {
   "cell_type": "code",
   "execution_count": 262,
   "id": "294c03a0",
   "metadata": {},
   "outputs": [],
   "source": [
    "def Takepages(compte,pwd,sujet):\n",
    "    \n",
    "    driver.get('https://www.facebook.com/')\n",
    "    driver.find_element(By.ID,'email').send_keys(compte)\n",
    "    driver.find_element(By.ID,'pass').send_keys(pwd)\n",
    "    driver.find_element(By.NAME,'login').submit()\n",
    "    sleep(10)\n",
    "    search=driver.find_element(By.CLASS_NAME,'x1i10hfl.xggy1nq.x1s07b3s.x1kdt53j.x1yc453h.xhb22t3.xb5gni.xcj1dhv.x2s2ed0.xq33zhf.xjyslct.xjbqb8w.xnwf7zb.x40j3uw.x1s7lred.x15gyhx8.x972fbf.xcfux6l.x1qhh985.xm0m39n.x9f619.xzsf02u.xdl72j9.x1iyjqo2.xs83m0k.xjb2p0i.x6prxxf.xeuugli.x1a2a7pz.x1n2onr6.x15h3p50.xm7lytj.x1sxyh0.xdvlbce.xurb0ha.x1vqgdyp.xo6swyp.x1ad04t7.x1glnyev.x1ix68h3.x19gujb8')\n",
    "    search.send_keys(sujet)\n",
    "    search.send_keys(Keys.RETURN)\n",
    "    sleep(5)\n",
    "    pag=driver.find_element(By.CSS_SELECTOR,'.x1i10hfl.xjbqb8w.x6umtig.x1b1mbwd.xaqea5y.xav7gou.x1ypdohk.xe8uvvx.xdj266r.x11i5rnm.xat24cr.x1mh8g0r.xexx8yu.x4uap5.x18d9i69.xkhd6sd.x16tdsg8.x1hl2dhg.xggy1nq.x1o1ewxj.x3x9cwd.x1e5q0jg.x13rtm0m.x87ps6o.x1lku1pv.x1a2a7pz.x9f619.x3nfvp2.xdt5ytf.xl56j7k.x1n2onr6.xh8yej3')\n",
    "    url=pag.get_attribute('href')\n",
    "    print(url)\n",
    "    pag.click()\n",
    "    sleep(2)\n",
    "    driver.execute_script(f\"window.scrollTo(0, document.body.scrollHeight);\")\n",
    "    sleep(2)\n",
    "    pages=driver.find_elements(By.CSS_SELECTOR,'.x1i10hfl.xjbqb8w.x6umtig.x1b1mbwd.xaqea5y.xav7gou.x9f619.x1ypdohk.xt0psk2.xe8uvvx.xdj266r.x11i5rnm.xat24cr.x1mh8g0r.xexx8yu.x4uap5.x18d9i69.xkhd6sd.x16tdsg8.x1hl2dhg.xggy1nq.x1a2a7pz.xt0b8zv.xzsf02u.x1s688f')\n",
    "    urls=[]\n",
    "    noms=[]\n",
    "    for url in pages:\n",
    "        noms.append(url.text)\n",
    "        urls.append(url.get_attribute('href'))\n",
    "    return url"
   ]
  },
  {
   "cell_type": "code",
   "execution_count": 263,
   "id": "fed4735b",
   "metadata": {},
   "outputs": [
    {
     "name": "stdout",
     "output_type": "stream",
     "text": [
      "None\n"
     ]
    },
    {
     "ename": "ElementNotInteractableException",
     "evalue": "Message: element not interactable\n  (Session info: chrome=119.0.6045.105)\nStacktrace:\n\tGetHandleVerifier [0x00007FF71D0882B2+55298]\n\t(No symbol) [0x00007FF71CFF5E02]\n\t(No symbol) [0x00007FF71CEB045D]\n\t(No symbol) [0x00007FF71CEF2B4C]\n\t(No symbol) [0x00007FF71CEE87BF]\n\t(No symbol) [0x00007FF71CF120AA]\n\t(No symbol) [0x00007FF71CEE80CF]\n\t(No symbol) [0x00007FF71CF122C0]\n\t(No symbol) [0x00007FF71CF2AAA4]\n\t(No symbol) [0x00007FF71CF11E83]\n\t(No symbol) [0x00007FF71CEE670A]\n\t(No symbol) [0x00007FF71CEE7964]\n\tGetHandleVerifier [0x00007FF71D400AAB+3694587]\n\tGetHandleVerifier [0x00007FF71D45728E+4048862]\n\tGetHandleVerifier [0x00007FF71D44F173+4015811]\n\tGetHandleVerifier [0x00007FF71D1247D6+695590]\n\t(No symbol) [0x00007FF71D000CE8]\n\t(No symbol) [0x00007FF71CFFCF34]\n\t(No symbol) [0x00007FF71CFFD062]\n\t(No symbol) [0x00007FF71CFED3A3]\n\tBaseThreadInitThunk [0x00007FFD563E7344+20]\n\tRtlUserThreadStart [0x00007FFD574826B1+33]\n",
     "output_type": "error",
     "traceback": [
      "\u001b[1;31m---------------------------------------------------------------------------\u001b[0m",
      "\u001b[1;31mElementNotInteractableException\u001b[0m           Traceback (most recent call last)",
      "Cell \u001b[1;32mIn[263], line 5\u001b[0m\n\u001b[0;32m      3\u001b[0m pwd\u001b[38;5;241m=\u001b[39m\u001b[38;5;124m'\u001b[39m\u001b[38;5;124m24111995\u001b[39m\u001b[38;5;124m'\u001b[39m\n\u001b[0;32m      4\u001b[0m sujet\u001b[38;5;241m=\u001b[39m\u001b[38;5;124m'\u001b[39m\u001b[38;5;124mALAYA OUARME\u001b[39m\u001b[38;5;124m'\u001b[39m\n\u001b[1;32m----> 5\u001b[0m pages\u001b[38;5;241m=\u001b[39mTakepages(compte,pwd,sujet)\n",
      "Cell \u001b[1;32mIn[262], line 15\u001b[0m, in \u001b[0;36mTakepages\u001b[1;34m(compte, pwd, sujet)\u001b[0m\n\u001b[0;32m     13\u001b[0m url\u001b[38;5;241m=\u001b[39mpag\u001b[38;5;241m.\u001b[39mget_attribute(\u001b[38;5;124m'\u001b[39m\u001b[38;5;124mhref\u001b[39m\u001b[38;5;124m'\u001b[39m)\n\u001b[0;32m     14\u001b[0m \u001b[38;5;28mprint\u001b[39m(url)\n\u001b[1;32m---> 15\u001b[0m pag\u001b[38;5;241m.\u001b[39mclick()\n\u001b[0;32m     16\u001b[0m sleep(\u001b[38;5;241m2\u001b[39m)\n\u001b[0;32m     17\u001b[0m driver\u001b[38;5;241m.\u001b[39mexecute_script(\u001b[38;5;124mf\u001b[39m\u001b[38;5;124m\"\u001b[39m\u001b[38;5;124mwindow.scrollTo(0, document.body.scrollHeight);\u001b[39m\u001b[38;5;124m\"\u001b[39m)\n",
      "File \u001b[1;32m~\\ju\\Lib\\site-packages\\selenium\\webdriver\\remote\\webelement.py:93\u001b[0m, in \u001b[0;36mWebElement.click\u001b[1;34m(self)\u001b[0m\n\u001b[0;32m     91\u001b[0m \u001b[38;5;28;01mdef\u001b[39;00m \u001b[38;5;21mclick\u001b[39m(\u001b[38;5;28mself\u001b[39m) \u001b[38;5;241m-\u001b[39m\u001b[38;5;241m>\u001b[39m \u001b[38;5;28;01mNone\u001b[39;00m:\n\u001b[0;32m     92\u001b[0m \u001b[38;5;250m    \u001b[39m\u001b[38;5;124;03m\"\"\"Clicks the element.\"\"\"\u001b[39;00m\n\u001b[1;32m---> 93\u001b[0m     \u001b[38;5;28mself\u001b[39m\u001b[38;5;241m.\u001b[39m_execute(Command\u001b[38;5;241m.\u001b[39mCLICK_ELEMENT)\n",
      "File \u001b[1;32m~\\ju\\Lib\\site-packages\\selenium\\webdriver\\remote\\webelement.py:394\u001b[0m, in \u001b[0;36mWebElement._execute\u001b[1;34m(self, command, params)\u001b[0m\n\u001b[0;32m    392\u001b[0m     params \u001b[38;5;241m=\u001b[39m {}\n\u001b[0;32m    393\u001b[0m params[\u001b[38;5;124m\"\u001b[39m\u001b[38;5;124mid\u001b[39m\u001b[38;5;124m\"\u001b[39m] \u001b[38;5;241m=\u001b[39m \u001b[38;5;28mself\u001b[39m\u001b[38;5;241m.\u001b[39m_id\n\u001b[1;32m--> 394\u001b[0m \u001b[38;5;28;01mreturn\u001b[39;00m \u001b[38;5;28mself\u001b[39m\u001b[38;5;241m.\u001b[39m_parent\u001b[38;5;241m.\u001b[39mexecute(command, params)\n",
      "File \u001b[1;32m~\\ju\\Lib\\site-packages\\selenium\\webdriver\\remote\\webdriver.py:344\u001b[0m, in \u001b[0;36mWebDriver.execute\u001b[1;34m(self, driver_command, params)\u001b[0m\n\u001b[0;32m    342\u001b[0m response \u001b[38;5;241m=\u001b[39m \u001b[38;5;28mself\u001b[39m\u001b[38;5;241m.\u001b[39mcommand_executor\u001b[38;5;241m.\u001b[39mexecute(driver_command, params)\n\u001b[0;32m    343\u001b[0m \u001b[38;5;28;01mif\u001b[39;00m response:\n\u001b[1;32m--> 344\u001b[0m     \u001b[38;5;28mself\u001b[39m\u001b[38;5;241m.\u001b[39merror_handler\u001b[38;5;241m.\u001b[39mcheck_response(response)\n\u001b[0;32m    345\u001b[0m     response[\u001b[38;5;124m\"\u001b[39m\u001b[38;5;124mvalue\u001b[39m\u001b[38;5;124m\"\u001b[39m] \u001b[38;5;241m=\u001b[39m \u001b[38;5;28mself\u001b[39m\u001b[38;5;241m.\u001b[39m_unwrap_value(response\u001b[38;5;241m.\u001b[39mget(\u001b[38;5;124m\"\u001b[39m\u001b[38;5;124mvalue\u001b[39m\u001b[38;5;124m\"\u001b[39m, \u001b[38;5;28;01mNone\u001b[39;00m))\n\u001b[0;32m    346\u001b[0m     \u001b[38;5;28;01mreturn\u001b[39;00m response\n",
      "File \u001b[1;32m~\\ju\\Lib\\site-packages\\selenium\\webdriver\\remote\\errorhandler.py:229\u001b[0m, in \u001b[0;36mErrorHandler.check_response\u001b[1;34m(self, response)\u001b[0m\n\u001b[0;32m    227\u001b[0m         alert_text \u001b[38;5;241m=\u001b[39m value[\u001b[38;5;124m\"\u001b[39m\u001b[38;5;124malert\u001b[39m\u001b[38;5;124m\"\u001b[39m]\u001b[38;5;241m.\u001b[39mget(\u001b[38;5;124m\"\u001b[39m\u001b[38;5;124mtext\u001b[39m\u001b[38;5;124m\"\u001b[39m)\n\u001b[0;32m    228\u001b[0m     \u001b[38;5;28;01mraise\u001b[39;00m exception_class(message, screen, stacktrace, alert_text)  \u001b[38;5;66;03m# type: ignore[call-arg]  # mypy is not smart enough here\u001b[39;00m\n\u001b[1;32m--> 229\u001b[0m \u001b[38;5;28;01mraise\u001b[39;00m exception_class(message, screen, stacktrace)\n",
      "\u001b[1;31mElementNotInteractableException\u001b[0m: Message: element not interactable\n  (Session info: chrome=119.0.6045.105)\nStacktrace:\n\tGetHandleVerifier [0x00007FF71D0882B2+55298]\n\t(No symbol) [0x00007FF71CFF5E02]\n\t(No symbol) [0x00007FF71CEB045D]\n\t(No symbol) [0x00007FF71CEF2B4C]\n\t(No symbol) [0x00007FF71CEE87BF]\n\t(No symbol) [0x00007FF71CF120AA]\n\t(No symbol) [0x00007FF71CEE80CF]\n\t(No symbol) [0x00007FF71CF122C0]\n\t(No symbol) [0x00007FF71CF2AAA4]\n\t(No symbol) [0x00007FF71CF11E83]\n\t(No symbol) [0x00007FF71CEE670A]\n\t(No symbol) [0x00007FF71CEE7964]\n\tGetHandleVerifier [0x00007FF71D400AAB+3694587]\n\tGetHandleVerifier [0x00007FF71D45728E+4048862]\n\tGetHandleVerifier [0x00007FF71D44F173+4015811]\n\tGetHandleVerifier [0x00007FF71D1247D6+695590]\n\t(No symbol) [0x00007FF71D000CE8]\n\t(No symbol) [0x00007FF71CFFCF34]\n\t(No symbol) [0x00007FF71CFFD062]\n\t(No symbol) [0x00007FF71CFED3A3]\n\tBaseThreadInitThunk [0x00007FFD563E7344+20]\n\tRtlUserThreadStart [0x00007FFD574826B1+33]\n"
     ]
    }
   ],
   "source": [
    "driver= webdriver.Chrome()\n",
    "compte='camara.lamine.336'\n",
    "pwd='24111995'\n",
    "sujet='ALAYA OUARME'\n",
    "pages=Takepages(compte,pwd,sujet)"
   ]
  },
  {
   "cell_type": "code",
   "execution_count": null,
   "id": "29464c91",
   "metadata": {},
   "outputs": [],
   "source": [
    "pages[0].text"
   ]
  },
  {
   "cell_type": "code",
   "execution_count": 188,
   "id": "3a52b3d3",
   "metadata": {},
   "outputs": [],
   "source": [
    "for txt in range(len(pages)):\n",
    "    try:\n",
    "        nom=pages[txt].text\n",
    "#         nom.upper()\n",
    "        print(nom)\n",
    "    except:\n",
    "        continue\n"
   ]
  },
  {
   "cell_type": "code",
   "execution_count": 41,
   "id": "f5623b1b",
   "metadata": {},
   "outputs": [
    {
     "name": "stdout",
     "output_type": "stream",
     "text": [
      "<selenium.webdriver.remote.webelement.WebElement (session=\"dba6c265ab660dfd5817e7bcb2438623\", element=\"632E070848FAE0C6BC9FD0C6646E3DB4_element_181\")>\n",
      "<selenium.webdriver.remote.webelement.WebElement (session=\"dba6c265ab660dfd5817e7bcb2438623\", element=\"632E070848FAE0C6BC9FD0C6646E3DB4_element_182\")>\n",
      "<selenium.webdriver.remote.webelement.WebElement (session=\"dba6c265ab660dfd5817e7bcb2438623\", element=\"632E070848FAE0C6BC9FD0C6646E3DB4_element_183\")>\n",
      "<selenium.webdriver.remote.webelement.WebElement (session=\"dba6c265ab660dfd5817e7bcb2438623\", element=\"632E070848FAE0C6BC9FD0C6646E3DB4_element_184\")>\n",
      "<selenium.webdriver.remote.webelement.WebElement (session=\"dba6c265ab660dfd5817e7bcb2438623\", element=\"632E070848FAE0C6BC9FD0C6646E3DB4_element_185\")>\n",
      "<selenium.webdriver.remote.webelement.WebElement (session=\"dba6c265ab660dfd5817e7bcb2438623\", element=\"632E070848FAE0C6BC9FD0C6646E3DB4_element_186\")>\n",
      "<selenium.webdriver.remote.webelement.WebElement (session=\"dba6c265ab660dfd5817e7bcb2438623\", element=\"632E070848FAE0C6BC9FD0C6646E3DB4_element_187\")>\n",
      "<selenium.webdriver.remote.webelement.WebElement (session=\"dba6c265ab660dfd5817e7bcb2438623\", element=\"632E070848FAE0C6BC9FD0C6646E3DB4_element_188\")>\n",
      "<selenium.webdriver.remote.webelement.WebElement (session=\"dba6c265ab660dfd5817e7bcb2438623\", element=\"632E070848FAE0C6BC9FD0C6646E3DB4_element_189\")>\n",
      "<selenium.webdriver.remote.webelement.WebElement (session=\"dba6c265ab660dfd5817e7bcb2438623\", element=\"632E070848FAE0C6BC9FD0C6646E3DB4_element_190\")>\n",
      "<selenium.webdriver.remote.webelement.WebElement (session=\"dba6c265ab660dfd5817e7bcb2438623\", element=\"632E070848FAE0C6BC9FD0C6646E3DB4_element_191\")>\n",
      "<selenium.webdriver.remote.webelement.WebElement (session=\"dba6c265ab660dfd5817e7bcb2438623\", element=\"632E070848FAE0C6BC9FD0C6646E3DB4_element_192\")>\n",
      "<selenium.webdriver.remote.webelement.WebElement (session=\"dba6c265ab660dfd5817e7bcb2438623\", element=\"632E070848FAE0C6BC9FD0C6646E3DB4_element_193\")>\n",
      "<selenium.webdriver.remote.webelement.WebElement (session=\"dba6c265ab660dfd5817e7bcb2438623\", element=\"632E070848FAE0C6BC9FD0C6646E3DB4_element_194\")>\n",
      "<selenium.webdriver.remote.webelement.WebElement (session=\"dba6c265ab660dfd5817e7bcb2438623\", element=\"632E070848FAE0C6BC9FD0C6646E3DB4_element_195\")>\n",
      "<selenium.webdriver.remote.webelement.WebElement (session=\"dba6c265ab660dfd5817e7bcb2438623\", element=\"632E070848FAE0C6BC9FD0C6646E3DB4_element_196\")>\n",
      "<selenium.webdriver.remote.webelement.WebElement (session=\"dba6c265ab660dfd5817e7bcb2438623\", element=\"632E070848FAE0C6BC9FD0C6646E3DB4_element_197\")>\n",
      "<selenium.webdriver.remote.webelement.WebElement (session=\"dba6c265ab660dfd5817e7bcb2438623\", element=\"632E070848FAE0C6BC9FD0C6646E3DB4_element_198\")>\n",
      "<selenium.webdriver.remote.webelement.WebElement (session=\"dba6c265ab660dfd5817e7bcb2438623\", element=\"632E070848FAE0C6BC9FD0C6646E3DB4_element_199\")>\n",
      "<selenium.webdriver.remote.webelement.WebElement (session=\"dba6c265ab660dfd5817e7bcb2438623\", element=\"632E070848FAE0C6BC9FD0C6646E3DB4_element_200\")>\n",
      "<selenium.webdriver.remote.webelement.WebElement (session=\"dba6c265ab660dfd5817e7bcb2438623\", element=\"632E070848FAE0C6BC9FD0C6646E3DB4_element_201\")>\n",
      "<selenium.webdriver.remote.webelement.WebElement (session=\"dba6c265ab660dfd5817e7bcb2438623\", element=\"632E070848FAE0C6BC9FD0C6646E3DB4_element_202\")>\n",
      "<selenium.webdriver.remote.webelement.WebElement (session=\"dba6c265ab660dfd5817e7bcb2438623\", element=\"632E070848FAE0C6BC9FD0C6646E3DB4_element_203\")>\n",
      "<selenium.webdriver.remote.webelement.WebElement (session=\"dba6c265ab660dfd5817e7bcb2438623\", element=\"632E070848FAE0C6BC9FD0C6646E3DB4_element_204\")>\n",
      "<selenium.webdriver.remote.webelement.WebElement (session=\"dba6c265ab660dfd5817e7bcb2438623\", element=\"632E070848FAE0C6BC9FD0C6646E3DB4_element_205\")>\n",
      "<selenium.webdriver.remote.webelement.WebElement (session=\"dba6c265ab660dfd5817e7bcb2438623\", element=\"632E070848FAE0C6BC9FD0C6646E3DB4_element_206\")>\n",
      "<selenium.webdriver.remote.webelement.WebElement (session=\"dba6c265ab660dfd5817e7bcb2438623\", element=\"632E070848FAE0C6BC9FD0C6646E3DB4_element_207\")>\n",
      "<selenium.webdriver.remote.webelement.WebElement (session=\"dba6c265ab660dfd5817e7bcb2438623\", element=\"632E070848FAE0C6BC9FD0C6646E3DB4_element_208\")>\n",
      "<selenium.webdriver.remote.webelement.WebElement (session=\"dba6c265ab660dfd5817e7bcb2438623\", element=\"632E070848FAE0C6BC9FD0C6646E3DB4_element_209\")>\n",
      "<selenium.webdriver.remote.webelement.WebElement (session=\"dba6c265ab660dfd5817e7bcb2438623\", element=\"632E070848FAE0C6BC9FD0C6646E3DB4_element_210\")>\n",
      "<selenium.webdriver.remote.webelement.WebElement (session=\"dba6c265ab660dfd5817e7bcb2438623\", element=\"632E070848FAE0C6BC9FD0C6646E3DB4_element_211\")>\n",
      "<selenium.webdriver.remote.webelement.WebElement (session=\"dba6c265ab660dfd5817e7bcb2438623\", element=\"632E070848FAE0C6BC9FD0C6646E3DB4_element_212\")>\n",
      "<selenium.webdriver.remote.webelement.WebElement (session=\"dba6c265ab660dfd5817e7bcb2438623\", element=\"632E070848FAE0C6BC9FD0C6646E3DB4_element_213\")>\n",
      "<selenium.webdriver.remote.webelement.WebElement (session=\"dba6c265ab660dfd5817e7bcb2438623\", element=\"632E070848FAE0C6BC9FD0C6646E3DB4_element_214\")>\n",
      "<selenium.webdriver.remote.webelement.WebElement (session=\"dba6c265ab660dfd5817e7bcb2438623\", element=\"632E070848FAE0C6BC9FD0C6646E3DB4_element_215\")>\n",
      "<selenium.webdriver.remote.webelement.WebElement (session=\"dba6c265ab660dfd5817e7bcb2438623\", element=\"632E070848FAE0C6BC9FD0C6646E3DB4_element_216\")>\n",
      "<selenium.webdriver.remote.webelement.WebElement (session=\"dba6c265ab660dfd5817e7bcb2438623\", element=\"632E070848FAE0C6BC9FD0C6646E3DB4_element_217\")>\n",
      "<selenium.webdriver.remote.webelement.WebElement (session=\"dba6c265ab660dfd5817e7bcb2438623\", element=\"632E070848FAE0C6BC9FD0C6646E3DB4_element_218\")>\n",
      "<selenium.webdriver.remote.webelement.WebElement (session=\"dba6c265ab660dfd5817e7bcb2438623\", element=\"632E070848FAE0C6BC9FD0C6646E3DB4_element_219\")>\n",
      "<selenium.webdriver.remote.webelement.WebElement (session=\"dba6c265ab660dfd5817e7bcb2438623\", element=\"632E070848FAE0C6BC9FD0C6646E3DB4_element_220\")>\n",
      "<selenium.webdriver.remote.webelement.WebElement (session=\"dba6c265ab660dfd5817e7bcb2438623\", element=\"632E070848FAE0C6BC9FD0C6646E3DB4_element_221\")>\n",
      "<selenium.webdriver.remote.webelement.WebElement (session=\"dba6c265ab660dfd5817e7bcb2438623\", element=\"632E070848FAE0C6BC9FD0C6646E3DB4_element_222\")>\n",
      "<selenium.webdriver.remote.webelement.WebElement (session=\"dba6c265ab660dfd5817e7bcb2438623\", element=\"632E070848FAE0C6BC9FD0C6646E3DB4_element_223\")>\n",
      "<selenium.webdriver.remote.webelement.WebElement (session=\"dba6c265ab660dfd5817e7bcb2438623\", element=\"632E070848FAE0C6BC9FD0C6646E3DB4_element_224\")>\n",
      "<selenium.webdriver.remote.webelement.WebElement (session=\"dba6c265ab660dfd5817e7bcb2438623\", element=\"632E070848FAE0C6BC9FD0C6646E3DB4_element_225\")>\n",
      "<selenium.webdriver.remote.webelement.WebElement (session=\"dba6c265ab660dfd5817e7bcb2438623\", element=\"632E070848FAE0C6BC9FD0C6646E3DB4_element_226\")>\n",
      "<selenium.webdriver.remote.webelement.WebElement (session=\"dba6c265ab660dfd5817e7bcb2438623\", element=\"632E070848FAE0C6BC9FD0C6646E3DB4_element_227\")>\n",
      "<selenium.webdriver.remote.webelement.WebElement (session=\"dba6c265ab660dfd5817e7bcb2438623\", element=\"632E070848FAE0C6BC9FD0C6646E3DB4_element_228\")>\n",
      "<selenium.webdriver.remote.webelement.WebElement (session=\"dba6c265ab660dfd5817e7bcb2438623\", element=\"632E070848FAE0C6BC9FD0C6646E3DB4_element_229\")>\n",
      "<selenium.webdriver.remote.webelement.WebElement (session=\"dba6c265ab660dfd5817e7bcb2438623\", element=\"632E070848FAE0C6BC9FD0C6646E3DB4_element_230\")>\n",
      "<selenium.webdriver.remote.webelement.WebElement (session=\"dba6c265ab660dfd5817e7bcb2438623\", element=\"632E070848FAE0C6BC9FD0C6646E3DB4_element_231\")>\n",
      "<selenium.webdriver.remote.webelement.WebElement (session=\"dba6c265ab660dfd5817e7bcb2438623\", element=\"632E070848FAE0C6BC9FD0C6646E3DB4_element_232\")>\n",
      "<selenium.webdriver.remote.webelement.WebElement (session=\"dba6c265ab660dfd5817e7bcb2438623\", element=\"632E070848FAE0C6BC9FD0C6646E3DB4_element_233\")>\n",
      "<selenium.webdriver.remote.webelement.WebElement (session=\"dba6c265ab660dfd5817e7bcb2438623\", element=\"632E070848FAE0C6BC9FD0C6646E3DB4_element_234\")>\n",
      "<selenium.webdriver.remote.webelement.WebElement (session=\"dba6c265ab660dfd5817e7bcb2438623\", element=\"632E070848FAE0C6BC9FD0C6646E3DB4_element_235\")>\n",
      "<selenium.webdriver.remote.webelement.WebElement (session=\"dba6c265ab660dfd5817e7bcb2438623\", element=\"632E070848FAE0C6BC9FD0C6646E3DB4_element_236\")>\n",
      "<selenium.webdriver.remote.webelement.WebElement (session=\"dba6c265ab660dfd5817e7bcb2438623\", element=\"632E070848FAE0C6BC9FD0C6646E3DB4_element_237\")>\n",
      "<selenium.webdriver.remote.webelement.WebElement (session=\"dba6c265ab660dfd5817e7bcb2438623\", element=\"632E070848FAE0C6BC9FD0C6646E3DB4_element_238\")>\n",
      "<selenium.webdriver.remote.webelement.WebElement (session=\"dba6c265ab660dfd5817e7bcb2438623\", element=\"632E070848FAE0C6BC9FD0C6646E3DB4_element_239\")>\n",
      "<selenium.webdriver.remote.webelement.WebElement (session=\"dba6c265ab660dfd5817e7bcb2438623\", element=\"632E070848FAE0C6BC9FD0C6646E3DB4_element_240\")>\n",
      "<selenium.webdriver.remote.webelement.WebElement (session=\"dba6c265ab660dfd5817e7bcb2438623\", element=\"632E070848FAE0C6BC9FD0C6646E3DB4_element_241\")>\n",
      "<selenium.webdriver.remote.webelement.WebElement (session=\"dba6c265ab660dfd5817e7bcb2438623\", element=\"632E070848FAE0C6BC9FD0C6646E3DB4_element_242\")>\n",
      "<selenium.webdriver.remote.webelement.WebElement (session=\"dba6c265ab660dfd5817e7bcb2438623\", element=\"632E070848FAE0C6BC9FD0C6646E3DB4_element_243\")>\n",
      "<selenium.webdriver.remote.webelement.WebElement (session=\"dba6c265ab660dfd5817e7bcb2438623\", element=\"632E070848FAE0C6BC9FD0C6646E3DB4_element_244\")>\n",
      "<selenium.webdriver.remote.webelement.WebElement (session=\"dba6c265ab660dfd5817e7bcb2438623\", element=\"632E070848FAE0C6BC9FD0C6646E3DB4_element_245\")>\n",
      "<selenium.webdriver.remote.webelement.WebElement (session=\"dba6c265ab660dfd5817e7bcb2438623\", element=\"632E070848FAE0C6BC9FD0C6646E3DB4_element_246\")>\n",
      "<selenium.webdriver.remote.webelement.WebElement (session=\"dba6c265ab660dfd5817e7bcb2438623\", element=\"632E070848FAE0C6BC9FD0C6646E3DB4_element_247\")>\n",
      "<selenium.webdriver.remote.webelement.WebElement (session=\"dba6c265ab660dfd5817e7bcb2438623\", element=\"632E070848FAE0C6BC9FD0C6646E3DB4_element_248\")>\n",
      "<selenium.webdriver.remote.webelement.WebElement (session=\"dba6c265ab660dfd5817e7bcb2438623\", element=\"632E070848FAE0C6BC9FD0C6646E3DB4_element_249\")>\n",
      "<selenium.webdriver.remote.webelement.WebElement (session=\"dba6c265ab660dfd5817e7bcb2438623\", element=\"632E070848FAE0C6BC9FD0C6646E3DB4_element_250\")>\n",
      "<selenium.webdriver.remote.webelement.WebElement (session=\"dba6c265ab660dfd5817e7bcb2438623\", element=\"632E070848FAE0C6BC9FD0C6646E3DB4_element_251\")>\n",
      "<selenium.webdriver.remote.webelement.WebElement (session=\"dba6c265ab660dfd5817e7bcb2438623\", element=\"632E070848FAE0C6BC9FD0C6646E3DB4_element_252\")>\n",
      "<selenium.webdriver.remote.webelement.WebElement (session=\"dba6c265ab660dfd5817e7bcb2438623\", element=\"632E070848FAE0C6BC9FD0C6646E3DB4_element_253\")>\n",
      "<selenium.webdriver.remote.webelement.WebElement (session=\"dba6c265ab660dfd5817e7bcb2438623\", element=\"632E070848FAE0C6BC9FD0C6646E3DB4_element_254\")>\n",
      "<selenium.webdriver.remote.webelement.WebElement (session=\"dba6c265ab660dfd5817e7bcb2438623\", element=\"632E070848FAE0C6BC9FD0C6646E3DB4_element_255\")>\n",
      "<selenium.webdriver.remote.webelement.WebElement (session=\"dba6c265ab660dfd5817e7bcb2438623\", element=\"632E070848FAE0C6BC9FD0C6646E3DB4_element_256\")>\n",
      "<selenium.webdriver.remote.webelement.WebElement (session=\"dba6c265ab660dfd5817e7bcb2438623\", element=\"632E070848FAE0C6BC9FD0C6646E3DB4_element_257\")>\n",
      "<selenium.webdriver.remote.webelement.WebElement (session=\"dba6c265ab660dfd5817e7bcb2438623\", element=\"632E070848FAE0C6BC9FD0C6646E3DB4_element_258\")>\n",
      "<selenium.webdriver.remote.webelement.WebElement (session=\"dba6c265ab660dfd5817e7bcb2438623\", element=\"632E070848FAE0C6BC9FD0C6646E3DB4_element_259\")>\n",
      "<selenium.webdriver.remote.webelement.WebElement (session=\"dba6c265ab660dfd5817e7bcb2438623\", element=\"632E070848FAE0C6BC9FD0C6646E3DB4_element_260\")>\n",
      "<selenium.webdriver.remote.webelement.WebElement (session=\"dba6c265ab660dfd5817e7bcb2438623\", element=\"632E070848FAE0C6BC9FD0C6646E3DB4_element_261\")>\n",
      "<selenium.webdriver.remote.webelement.WebElement (session=\"dba6c265ab660dfd5817e7bcb2438623\", element=\"632E070848FAE0C6BC9FD0C6646E3DB4_element_262\")>\n",
      "<selenium.webdriver.remote.webelement.WebElement (session=\"dba6c265ab660dfd5817e7bcb2438623\", element=\"632E070848FAE0C6BC9FD0C6646E3DB4_element_263\")>\n",
      "<selenium.webdriver.remote.webelement.WebElement (session=\"dba6c265ab660dfd5817e7bcb2438623\", element=\"632E070848FAE0C6BC9FD0C6646E3DB4_element_264\")>\n",
      "<selenium.webdriver.remote.webelement.WebElement (session=\"dba6c265ab660dfd5817e7bcb2438623\", element=\"632E070848FAE0C6BC9FD0C6646E3DB4_element_265\")>\n",
      "<selenium.webdriver.remote.webelement.WebElement (session=\"dba6c265ab660dfd5817e7bcb2438623\", element=\"632E070848FAE0C6BC9FD0C6646E3DB4_element_266\")>\n",
      "<selenium.webdriver.remote.webelement.WebElement (session=\"dba6c265ab660dfd5817e7bcb2438623\", element=\"632E070848FAE0C6BC9FD0C6646E3DB4_element_267\")>\n",
      "<selenium.webdriver.remote.webelement.WebElement (session=\"dba6c265ab660dfd5817e7bcb2438623\", element=\"632E070848FAE0C6BC9FD0C6646E3DB4_element_268\")>\n",
      "<selenium.webdriver.remote.webelement.WebElement (session=\"dba6c265ab660dfd5817e7bcb2438623\", element=\"632E070848FAE0C6BC9FD0C6646E3DB4_element_269\")>\n",
      "<selenium.webdriver.remote.webelement.WebElement (session=\"dba6c265ab660dfd5817e7bcb2438623\", element=\"632E070848FAE0C6BC9FD0C6646E3DB4_element_270\")>\n",
      "<selenium.webdriver.remote.webelement.WebElement (session=\"dba6c265ab660dfd5817e7bcb2438623\", element=\"632E070848FAE0C6BC9FD0C6646E3DB4_element_271\")>\n",
      "<selenium.webdriver.remote.webelement.WebElement (session=\"dba6c265ab660dfd5817e7bcb2438623\", element=\"632E070848FAE0C6BC9FD0C6646E3DB4_element_272\")>\n",
      "<selenium.webdriver.remote.webelement.WebElement (session=\"dba6c265ab660dfd5817e7bcb2438623\", element=\"632E070848FAE0C6BC9FD0C6646E3DB4_element_273\")>\n",
      "<selenium.webdriver.remote.webelement.WebElement (session=\"dba6c265ab660dfd5817e7bcb2438623\", element=\"632E070848FAE0C6BC9FD0C6646E3DB4_element_274\")>\n",
      "<selenium.webdriver.remote.webelement.WebElement (session=\"dba6c265ab660dfd5817e7bcb2438623\", element=\"632E070848FAE0C6BC9FD0C6646E3DB4_element_275\")>\n",
      "<selenium.webdriver.remote.webelement.WebElement (session=\"dba6c265ab660dfd5817e7bcb2438623\", element=\"632E070848FAE0C6BC9FD0C6646E3DB4_element_276\")>\n",
      "<selenium.webdriver.remote.webelement.WebElement (session=\"dba6c265ab660dfd5817e7bcb2438623\", element=\"632E070848FAE0C6BC9FD0C6646E3DB4_element_277\")>\n",
      "<selenium.webdriver.remote.webelement.WebElement (session=\"dba6c265ab660dfd5817e7bcb2438623\", element=\"632E070848FAE0C6BC9FD0C6646E3DB4_element_278\")>\n",
      "<selenium.webdriver.remote.webelement.WebElement (session=\"dba6c265ab660dfd5817e7bcb2438623\", element=\"632E070848FAE0C6BC9FD0C6646E3DB4_element_279\")>\n",
      "<selenium.webdriver.remote.webelement.WebElement (session=\"dba6c265ab660dfd5817e7bcb2438623\", element=\"632E070848FAE0C6BC9FD0C6646E3DB4_element_280\")>\n",
      "<selenium.webdriver.remote.webelement.WebElement (session=\"dba6c265ab660dfd5817e7bcb2438623\", element=\"632E070848FAE0C6BC9FD0C6646E3DB4_element_281\")>\n",
      "<selenium.webdriver.remote.webelement.WebElement (session=\"dba6c265ab660dfd5817e7bcb2438623\", element=\"632E070848FAE0C6BC9FD0C6646E3DB4_element_282\")>\n",
      "<selenium.webdriver.remote.webelement.WebElement (session=\"dba6c265ab660dfd5817e7bcb2438623\", element=\"632E070848FAE0C6BC9FD0C6646E3DB4_element_283\")>\n",
      "<selenium.webdriver.remote.webelement.WebElement (session=\"dba6c265ab660dfd5817e7bcb2438623\", element=\"632E070848FAE0C6BC9FD0C6646E3DB4_element_284\")>\n",
      "<selenium.webdriver.remote.webelement.WebElement (session=\"dba6c265ab660dfd5817e7bcb2438623\", element=\"632E070848FAE0C6BC9FD0C6646E3DB4_element_285\")>\n",
      "<selenium.webdriver.remote.webelement.WebElement (session=\"dba6c265ab660dfd5817e7bcb2438623\", element=\"632E070848FAE0C6BC9FD0C6646E3DB4_element_286\")>\n",
      "<selenium.webdriver.remote.webelement.WebElement (session=\"dba6c265ab660dfd5817e7bcb2438623\", element=\"632E070848FAE0C6BC9FD0C6646E3DB4_element_287\")>\n",
      "<selenium.webdriver.remote.webelement.WebElement (session=\"dba6c265ab660dfd5817e7bcb2438623\", element=\"632E070848FAE0C6BC9FD0C6646E3DB4_element_288\")>\n",
      "<selenium.webdriver.remote.webelement.WebElement (session=\"dba6c265ab660dfd5817e7bcb2438623\", element=\"632E070848FAE0C6BC9FD0C6646E3DB4_element_289\")>\n",
      "<selenium.webdriver.remote.webelement.WebElement (session=\"dba6c265ab660dfd5817e7bcb2438623\", element=\"632E070848FAE0C6BC9FD0C6646E3DB4_element_290\")>\n",
      "<selenium.webdriver.remote.webelement.WebElement (session=\"dba6c265ab660dfd5817e7bcb2438623\", element=\"632E070848FAE0C6BC9FD0C6646E3DB4_element_291\")>\n",
      "<selenium.webdriver.remote.webelement.WebElement (session=\"dba6c265ab660dfd5817e7bcb2438623\", element=\"632E070848FAE0C6BC9FD0C6646E3DB4_element_292\")>\n",
      "<selenium.webdriver.remote.webelement.WebElement (session=\"dba6c265ab660dfd5817e7bcb2438623\", element=\"632E070848FAE0C6BC9FD0C6646E3DB4_element_293\")>\n",
      "<selenium.webdriver.remote.webelement.WebElement (session=\"dba6c265ab660dfd5817e7bcb2438623\", element=\"632E070848FAE0C6BC9FD0C6646E3DB4_element_294\")>\n",
      "<selenium.webdriver.remote.webelement.WebElement (session=\"dba6c265ab660dfd5817e7bcb2438623\", element=\"632E070848FAE0C6BC9FD0C6646E3DB4_element_295\")>\n",
      "<selenium.webdriver.remote.webelement.WebElement (session=\"dba6c265ab660dfd5817e7bcb2438623\", element=\"632E070848FAE0C6BC9FD0C6646E3DB4_element_296\")>\n",
      "<selenium.webdriver.remote.webelement.WebElement (session=\"dba6c265ab660dfd5817e7bcb2438623\", element=\"632E070848FAE0C6BC9FD0C6646E3DB4_element_297\")>\n",
      "<selenium.webdriver.remote.webelement.WebElement (session=\"dba6c265ab660dfd5817e7bcb2438623\", element=\"632E070848FAE0C6BC9FD0C6646E3DB4_element_298\")>\n",
      "<selenium.webdriver.remote.webelement.WebElement (session=\"dba6c265ab660dfd5817e7bcb2438623\", element=\"632E070848FAE0C6BC9FD0C6646E3DB4_element_299\")>\n",
      "<selenium.webdriver.remote.webelement.WebElement (session=\"dba6c265ab660dfd5817e7bcb2438623\", element=\"632E070848FAE0C6BC9FD0C6646E3DB4_element_300\")>\n",
      "<selenium.webdriver.remote.webelement.WebElement (session=\"dba6c265ab660dfd5817e7bcb2438623\", element=\"632E070848FAE0C6BC9FD0C6646E3DB4_element_301\")>\n",
      "<selenium.webdriver.remote.webelement.WebElement (session=\"dba6c265ab660dfd5817e7bcb2438623\", element=\"632E070848FAE0C6BC9FD0C6646E3DB4_element_302\")>\n",
      "<selenium.webdriver.remote.webelement.WebElement (session=\"dba6c265ab660dfd5817e7bcb2438623\", element=\"632E070848FAE0C6BC9FD0C6646E3DB4_element_303\")>\n",
      "<selenium.webdriver.remote.webelement.WebElement (session=\"dba6c265ab660dfd5817e7bcb2438623\", element=\"632E070848FAE0C6BC9FD0C6646E3DB4_element_304\")>\n",
      "<selenium.webdriver.remote.webelement.WebElement (session=\"dba6c265ab660dfd5817e7bcb2438623\", element=\"632E070848FAE0C6BC9FD0C6646E3DB4_element_305\")>\n",
      "<selenium.webdriver.remote.webelement.WebElement (session=\"dba6c265ab660dfd5817e7bcb2438623\", element=\"632E070848FAE0C6BC9FD0C6646E3DB4_element_306\")>\n",
      "<selenium.webdriver.remote.webelement.WebElement (session=\"dba6c265ab660dfd5817e7bcb2438623\", element=\"632E070848FAE0C6BC9FD0C6646E3DB4_element_307\")>\n",
      "<selenium.webdriver.remote.webelement.WebElement (session=\"dba6c265ab660dfd5817e7bcb2438623\", element=\"632E070848FAE0C6BC9FD0C6646E3DB4_element_308\")>\n",
      "<selenium.webdriver.remote.webelement.WebElement (session=\"dba6c265ab660dfd5817e7bcb2438623\", element=\"632E070848FAE0C6BC9FD0C6646E3DB4_element_309\")>\n",
      "<selenium.webdriver.remote.webelement.WebElement (session=\"dba6c265ab660dfd5817e7bcb2438623\", element=\"632E070848FAE0C6BC9FD0C6646E3DB4_element_310\")>\n",
      "<selenium.webdriver.remote.webelement.WebElement (session=\"dba6c265ab660dfd5817e7bcb2438623\", element=\"632E070848FAE0C6BC9FD0C6646E3DB4_element_311\")>\n"
     ]
    }
   ],
   "source": [
    " print(.upper())\n",
    "        if (pages[txt].text).=='ALAYA OUARME':\n",
    "            print('okokokokok')"
   ]
  }
 ],
 "metadata": {
  "kernelspec": {
   "display_name": "Python 3 (ipykernel)",
   "language": "python",
   "name": "python3"
  },
  "language_info": {
   "codemirror_mode": {
    "name": "ipython",
    "version": 3
   },
   "file_extension": ".py",
   "mimetype": "text/x-python",
   "name": "python",
   "nbconvert_exporter": "python",
   "pygments_lexer": "ipython3",
   "version": "3.11.5"
  }
 },
 "nbformat": 4,
 "nbformat_minor": 5
}
