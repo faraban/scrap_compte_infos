{
 "cells": [
  {
   "cell_type": "code",
   "execution_count": 1,
   "id": "4abef97a",
   "metadata": {},
   "outputs": [],
   "source": [
    "import pandas as pd\n",
    "import numpy as np\n",
    "from time import sleep\n",
    "from selenium import webdriver\n",
    "from selenium.webdriver.common.by import By\n",
    "from selenium.webdriver.common.keys import Keys\n",
    "from bs4 import BeautifulSoup as bs\n",
    "import requests as req"
   ]
  },
  {
   "cell_type": "code",
   "execution_count": 277,
   "id": "afa8a815",
   "metadata": {},
   "outputs": [
    {
     "data": {
      "text/plain": [
       "'x1yztbdb.x1d52u69.xktsk01'"
      ]
     },
     "execution_count": 277,
     "metadata": {},
     "output_type": "execute_result"
    }
   ],
   "source": [
    "a='x1yztbdb x1d52u69 xktsk01'\n",
    "a.replace(' ','.')"
   ]
  },
  {
   "cell_type": "code",
   "execution_count": 4,
   "id": "294c03a0",
   "metadata": {},
   "outputs": [],
   "source": [
    "def Takepages(compte,pwd,sujet):\n",
    "    \n",
    "    driver.get('https://www.facebook.com/')\n",
    "    driver.find_element(By.ID,'email').send_keys(compte)\n",
    "    driver.find_element(By.ID,'pass').send_keys(pwd)\n",
    "    driver.find_element(By.NAME,'login').submit()\n",
    "    sleep(20)\n",
    "    search=driver.find_element(By.CLASS_NAME,'x1i10hfl.xggy1nq.x1s07b3s.x1kdt53j.x1yc453h.xhb22t3.xb5gni.xcj1dhv.x2s2ed0.xq33zhf.xjyslct.xjbqb8w.xnwf7zb.x40j3uw.x1s7lred.x15gyhx8.x972fbf.xcfux6l.x1qhh985.xm0m39n.x9f619.xzsf02u.xdl72j9.x1iyjqo2.xs83m0k.xjb2p0i.x6prxxf.xeuugli.x1a2a7pz.x1n2onr6.x15h3p50.xm7lytj.x1sxyh0.xdvlbce.xurb0ha.x1vqgdyp.xo6swyp.x1ad04t7.x1glnyev.x1ix68h3.x19gujb8')\n",
    "    search.send_keys(sujet)\n",
    "    search.send_keys(Keys.RETURN)\n",
    "    sleep(10)\n",
    "    pag=driver.find_element(By.CSS_SELECTOR,'.x1yztbdb.x1d52u69.xktsk01')\n",
    "    pag.click()\n",
    "    sleep(2)\n",
    "    for i in range(3):\n",
    "        driver.execute_script(f\"window.scrollTo(0, document.body.scrollHeight);\")\n",
    "        sleep(2)\n",
    "    pages=driver.find_elements(By.CSS_SELECTOR,'.x1i10hfl.xjbqb8w.x6umtig.x1b1mbwd.xaqea5y.xav7gou.x9f619.x1ypdohk.xt0psk2.xe8uvvx.xdj266r.x11i5rnm.xat24cr.x1mh8g0r.xexx8yu.x4uap5.x18d9i69.xkhd6sd.x16tdsg8.x1hl2dhg.xggy1nq.x1a2a7pz.xt0b8zv.xzsf02u.x1s688f')\n",
    "    urls=[]\n",
    "    noms=[]\n",
    "#     for url in pages:\n",
    "#         noms.append(url.text)\n",
    "#         urls.append(url.get_attribute('href'))\n",
    "    return pages"
   ]
  },
  {
   "cell_type": "code",
   "execution_count": 5,
   "id": "fed4735b",
   "metadata": {},
   "outputs": [],
   "source": [
    "driver= webdriver.Chrome()\n",
    "compte='camara.lamine.336'\n",
    "pwd='24111995'\n",
    "sujet='ALAYA OUARME'\n",
    "pages=Takepages(compte,pwd,sujet)"
   ]
  },
  {
   "cell_type": "code",
   "execution_count": 14,
   "id": "3a52b3d3",
   "metadata": {},
   "outputs": [
    {
     "name": "stdout",
     "output_type": "stream",
     "text": [
      "OUARME BESS ALAYA\n",
      "ALAYA OUARME\n",
      "ALIYA ARMO\n",
      "ALAYA OUARME\n",
      "ALAYA OUARME\n",
      "ALY OUARME\n",
      "ALAYA OUARME\n",
      "ARMIE YALA\n",
      "ARMAYA SARI\n",
      "ARMA ALI\n",
      "ALAYA OUARME\n",
      "ALAYE OUARMA\n",
      "ALI OUARME\n",
      "ALY OUARME\n",
      "ALI OUARME\n",
      "ALI OUARME\n",
      "MUHAMMAD ARMAYA\n",
      "ALI OUANRE\n",
      "ALIYU ARMA\n",
      "ALIOU OUARME\n",
      "ALIOU OUARME\n",
      "ALIOU OUARME\n",
      "ALY OUARME\n",
      "ALLAYA ARMA\n",
      "ARMAYA SALISU\n",
      "ALLAYE ARMA\n",
      "ALIA IRMA\n",
      "OUARME ALI\n",
      "ALIOU OUARME\n",
      "ARMA ALAYE\n",
      "OUARE ALI\n",
      "ARMAYA DEV\n",
      "ARMA ALIE\n",
      "ARMA ALIA\n"
     ]
    }
   ],
   "source": [
    "for txt in range(len(pages)):\n",
    "    try:\n",
    "        nom=pages[txt].text\n",
    "        nom=unidecode(nom).upper()\n",
    "        print(nom)\n",
    "    except:\n",
    "        continue\n"
   ]
  },
  {
   "cell_type": "code",
   "execution_count": null,
   "id": "1441741a",
   "metadata": {},
   "outputs": [],
   "source": []
  }
 ],
 "metadata": {
  "kernelspec": {
   "display_name": "Python 3 (ipykernel)",
   "language": "python",
   "name": "python3"
  },
  "language_info": {
   "codemirror_mode": {
    "name": "ipython",
    "version": 3
   },
   "file_extension": ".py",
   "mimetype": "text/x-python",
   "name": "python",
   "nbconvert_exporter": "python",
   "pygments_lexer": "ipython3",
   "version": "3.11.5"
  }
 },
 "nbformat": 4,
 "nbformat_minor": 5
}
