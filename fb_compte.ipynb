{
 "cells": [
  {
   "cell_type": "code",
   "execution_count": 100,
   "id": "4abef97a",
   "metadata": {},
   "outputs": [
    {
     "ename": "ModuleNotFoundError",
     "evalue": "No module named 'schedule'",
     "output_type": "error",
     "traceback": [
      "\u001b[1;31m---------------------------------------------------------------------------\u001b[0m",
      "\u001b[1;31mModuleNotFoundError\u001b[0m                       Traceback (most recent call last)",
      "Cell \u001b[1;32mIn[100], line 8\u001b[0m\n\u001b[0;32m      6\u001b[0m \u001b[38;5;28;01mfrom\u001b[39;00m \u001b[38;5;21;01mselenium\u001b[39;00m\u001b[38;5;21;01m.\u001b[39;00m\u001b[38;5;21;01mwebdriver\u001b[39;00m\u001b[38;5;21;01m.\u001b[39;00m\u001b[38;5;21;01mcommon\u001b[39;00m\u001b[38;5;21;01m.\u001b[39;00m\u001b[38;5;21;01mkeys\u001b[39;00m \u001b[38;5;28;01mimport\u001b[39;00m Keys\n\u001b[0;32m      7\u001b[0m \u001b[38;5;28;01mfrom\u001b[39;00m \u001b[38;5;21;01munidecode\u001b[39;00m \u001b[38;5;28;01mimport\u001b[39;00m unidecode\n\u001b[1;32m----> 8\u001b[0m \u001b[38;5;28;01mimport\u001b[39;00m \u001b[38;5;21;01mschedule\u001b[39;00m\n",
      "\u001b[1;31mModuleNotFoundError\u001b[0m: No module named 'schedule'"
     ]
    }
   ],
   "source": [
    "import pandas as pd\n",
    "import numpy as np\n",
    "import t\n",
    "from time import sleep\n",
    "from selenium import webdriver\n",
    "from selenium.webdriver.common.by import By\n",
    "from selenium.webdriver.common.keys import Keys\n",
    "from unidecode import unidecode"
   ]
  },
  {
   "cell_type": "code",
   "execution_count": 95,
   "id": "294c03a0",
   "metadata": {},
   "outputs": [],
   "source": [
    "def Takepages(compte,pwd,sujet):\n",
    "    driver= webdriver.Chrome()\n",
    "    driver.get('https://www.facebook.com/')\n",
    "    driver.find_element(By.ID,'email').send_keys(compte)\n",
    "    driver.find_element(By.ID,'pass').send_keys(pwd)\n",
    "    driver.find_element(By.NAME,'login').submit()\n",
    "    sleep(20)\n",
    "    search=driver.find_element(By.CLASS_NAME,'x1i10hfl.xggy1nq.x1s07b3s.x1kdt53j.x1yc453h.xhb22t3.xb5gni.xcj1dhv.x2s2ed0.xq33zhf.xjyslct.xjbqb8w.xnwf7zb.x40j3uw.x1s7lred.x15gyhx8.x972fbf.xcfux6l.x1qhh985.xm0m39n.x9f619.xzsf02u.xdl72j9.x1iyjqo2.xs83m0k.xjb2p0i.x6prxxf.xeuugli.x1a2a7pz.x1n2onr6.x15h3p50.xm7lytj.x1sxyh0.xdvlbce.xurb0ha.x1vqgdyp.xo6swyp.x1ad04t7.x1glnyev.x1ix68h3.x19gujb8')\n",
    "    search.send_keys(sujet)\n",
    "    search.send_keys(Keys.RETURN)\n",
    "    sleep(10)\n",
    "    pag=driver.find_element(By.CSS_SELECTOR,'.x1yztbdb.x1d52u69.xktsk01')\n",
    "    pag.click()\n",
    "    sleep(2)\n",
    "    for i in range(5):\n",
    "        driver.execute_script(f\"window.scrollTo(0, document.body.scrollHeight);\")\n",
    "    sleep(5)\n",
    "    pages=driver.find_elements(By.CSS_SELECTOR,'.x1i10hfl.xjbqb8w.x6umtig.x1b1mbwd.xaqea5y.xav7gou.x9f619.x1ypdohk.xt0psk2.xe8uvvx.xdj266r.x11i5rnm.xat24cr.x1mh8g0r.xexx8yu.x4uap5.x18d9i69.xkhd6sd.x16tdsg8.x1hl2dhg.xggy1nq.x1a2a7pz.xt0b8zv.xzsf02u.x1s688f')\n",
    "    sujet=unidecode(sujet).upper()\n",
    "    urls=[]\n",
    "    for i in range(len(pages)):\n",
    "        try:\n",
    "            nom=unidecode(pages[i].text).upper()\n",
    "            if nom==f'{sujet}':\n",
    "                urls.append(pages[i].get_attribute('href'))\n",
    "        except:\n",
    "            continue\n",
    "   \n",
    "    comptes=[]\n",
    "    amis=[]\n",
    "    liens=[]\n",
    "    for url in urls:\n",
    "        try:\n",
    "            driver.get(url)\n",
    "            sleep(10)\n",
    "            compte=driver.find_element(By.CLASS_NAME,'x193iq5w.xeuugli.x13faqbe.x1vvkbs.x1xmvt09.x1lliihq.x1s928wv.xhkezso.x1gmr53x.x1cpjm7i.x1fgarty.x1943h6x.x14qwyeo.xw06pyt.x579bpy.xjkpybl.x1xlr1w8.xzsf02u.x1yc453h')\n",
    "            ami=driver.find_element(By.CLASS_NAME,'x9f619.x1n2onr6.x1ja2u2z.x78zum5.xdt5ytf.x2lah0s.x193iq5w.x1cy8zhl.xyamay9')\n",
    "            comptes.append(compte.text)\n",
    "            amis.append(ami.text)\n",
    "            liens.append(url)\n",
    "        except Exception as e:\n",
    "            continue\n",
    "    data = {'Comptes': comptes,'Amis':amis,'Liens': liens}\n",
    "    dt = pd.DataFrame(data)\n",
    "    dt.to_excel(f'{sujet}.xlsx')\n",
    "    \n",
    "    return urls"
   ]
  },
  {
   "cell_type": "code",
   "execution_count": null,
   "id": "c55e21d7",
   "metadata": {},
   "outputs": [],
   "source": []
  }
 ],
 "metadata": {
  "kernelspec": {
   "display_name": "Python 3 (ipykernel)",
   "language": "python",
   "name": "python3"
  },
  "language_info": {
   "codemirror_mode": {
    "name": "ipython",
    "version": 3
   },
   "file_extension": ".py",
   "mimetype": "text/x-python",
   "name": "python",
   "nbconvert_exporter": "python",
   "pygments_lexer": "ipython3",
   "version": "3.11.5"
  }
 },
 "nbformat": 4,
 "nbformat_minor": 5
}
