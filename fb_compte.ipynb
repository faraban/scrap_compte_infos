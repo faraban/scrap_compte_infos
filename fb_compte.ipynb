{
 "cells": [
  {
   "cell_type": "code",
   "execution_count": 6,
   "id": "4abef97a",
   "metadata": {},
   "outputs": [],
   "source": [
    "# Importation des modules nécessaires\n",
    "import pandas as pd  # Pour la manipulation des données sous forme de DataFrames\n",
    "import numpy as np  # Pour des opérations mathématiques avancées\n",
    "from time import sleep  # Pour introduire des délais\n",
    "from selenium import webdriver  # Pour l'automatisation du navigateur\n",
    "from selenium.webdriver.common.by import By  # Pour les méthodes de localisation des éléments\n",
    "from selenium.webdriver.common.keys import Keys  # Pour l'interaction avec les touches du clavier\n",
    "from unidecode"
   ]
  },
  {
   "cell_type": "code",
   "execution_count": null,
   "id": "294c03a0",
   "metadata": {},
   "outputs": [],
   "source": [
    "def Takepages(compte,pwd,sujet):\n",
    "    # Initialisation du navigateur\n",
    "    driver= webdriver.Chrome()\n",
    "    \n",
    "    # Ouvrir la page Facebook\n",
    "    driver.get('https://www.facebook.com/')\n",
    "    \n",
    "    # Saisie des identifiants et connexion\n",
    "    driver.find_element(By.ID,'email').send_keys(compte)\n",
    "    driver.find_element(By.ID,'pass').send_keys(pwd)\n",
    "    driver.find_element(By.NAME,'login').submit()\n",
    "    sleep(20)\n",
    "    \n",
    "    # Recherche et navigation sur la page\n",
    "    # Remplacer par la classe correcte\n",
    "    search=driver.find_element(By.CLASS_NAME,'x1i10hfl.xggy1nq.x1s07b3s.x1kdt53j.x1yc453h.xhb22t3.xb5gni.xcj1dhv.x2s2ed0.xq33zhf.xjyslct.xjbqb8w.xnwf7zb.x40j3uw.x1s7lred.x15gyhx8.x972fbf.xcfux6l.x1qhh985.xm0m39n.x9f619.xzsf02u.xdl72j9.x1iyjqo2.xs83m0k.xjb2p0i.x6prxxf.xeuugli.x1a2a7pz.x1n2onr6.x15h3p50.xm7lytj.x1sxyh0.xdvlbce.xurb0ha.x1vqgdyp.xo6swyp.x1ad04t7.x1glnyev.x1ix68h3.x19gujb8')\n",
    "    search.send_keys(sujet)\n",
    "    search.send_keys(Keys.RETURN)\n",
    "    sleep(10)\n",
    "    \n",
    "    # Remplacer par le sélecteur CSS correct\n",
    "    pag=driver.find_element(By.CSS_SELECTOR,'.x1yztbdb.x1d52u69.xktsk01')\n",
    "    pag.click()\n",
    "    sleep(2)\n",
    "    \n",
    "    # Faire défiler la page\n",
    "    for i in range(10):\n",
    "        driver.execute_script(f\"window.scrollTo(0, document.body.scrollHeight);\")\n",
    "    sleep(10)\n",
    "    \n",
    "    # Récupérer les URL des pages\n",
    "    # Remplacer par le sélecteur CSS correct\n",
    "    pages=driver.find_elements(By.CSS_SELECTOR,'.x1i10hfl.xjbqb8w.x6umtig.x1b1mbwd.xaqea5y.xav7gou.x9f619.x1ypdohk.xt0psk2.xe8uvvx.xdj266r.x11i5rnm.xat24cr.x1mh8g0r.xexx8yu.x4uap5.x18d9i69.xkhd6sd.x16tdsg8.x1hl2dhg.xggy1nq.x1a2a7pz.xt0b8zv.xzsf02u.x1s688f')\n",
    "    sujet=unidecode(sujet).upper()\n",
    "    urls=[]\n",
    "    \n",
    "    for i in range(len(pages)):\n",
    "        try:\n",
    "            nom=unidecode(pages[i].text).upper()\n",
    "            if nom==f'{sujet}':\n",
    "                urls.append(pages[i].get_attribute('href'))\n",
    "        except:\n",
    "            continue\n",
    "   \n",
    "    # Collecte des données à partir des URLs\n",
    "    comptes=[]\n",
    "    amis=[]\n",
    "    liens=[]\n",
    "    \n",
    "    for url in urls:\n",
    "        try:\n",
    "            driver.get(url)\n",
    "            sleep(10)\n",
    "            # Remplacer par la classe correcte\n",
    "            compte=driver.find_element(By.CLASS_NAME,'x193iq5w.xeuugli.x13faqbe.x1vvkbs.x1xmvt09.x1lliihq.x1s928wv.xhkezso.x1gmr53x.x1cpjm7i.x1fgarty.x1943h6x.x14qwyeo.xw06pyt.x579bpy.xjkpybl.x1xlr1w8.xzsf02u.x1yc453h')\n",
    "             # Remplacer par la classe correcte\n",
    "            ami=driver.find_element(By.CLASS_NAME,'x9f619.x1n2onr6.x1ja2u2z.x78zum5.xdt5ytf.x2lah0s.x193iq5w.x1cy8zhl.xyamay9')\n",
    "            comptes.append(compte.text)\n",
    "            amis.append(ami.text)\n",
    "            liens.append(url)\n",
    "        except Exception as e:\n",
    "            continue\n",
    "            \n",
    "    # Création d'un DataFrame et exportation des données\n",
    "    data = {'Comptes': comptes,'Amis':amis,'Liens': liens}\n",
    "    dt = pd.DataFrame(data)\n",
    "    dt.to_excel(f'{sujet}.xlsx')"
   ]
  },
  {
   "cell_type": "code",
   "execution_count": 9,
   "id": "c55e21d7",
   "metadata": {},
   "outputs": [],
   "source": [
    "def execute_takepages():\n",
    "    # Informations d'identification\n",
    "    compte = 'camara.lamine.336'  # Nom d'utilisateur\n",
    "    pwd = '24111995'  # Mot de passe\n",
    "    sujet = 'ALAYA OUARME'  # Sujet de recherche\n",
    "\n",
    "    # Appel de la fonction pour interagir avec Facebook\n",
    "    Takepages(compte, pwd, sujet)"
   ]
  },
  {
   "cell_type": "code",
   "execution_count": null,
   "id": "bd219f98",
   "metadata": {},
   "outputs": [],
   "source": [
    "schedule.every().hour.do(execute_takepages)  # Planification de l'exécution de la fonction toutes les heures\n",
    "\n",
    "while True:\n",
    "    schedule.run_pending()  # Vérification des tâches planifiées\n",
    "    sleep(1200)  # Pause de 1200 secondes (20 minutes) pour éviter une consommation élevée de ressources"
   ]
  },
  {
   "cell_type": "code",
   "execution_count": null,
   "id": "4d5be587",
   "metadata": {},
   "outputs": [],
   "source": []
  }
 ],
 "metadata": {
  "kernelspec": {
   "display_name": "Python 3 (ipykernel)",
   "language": "python",
   "name": "python3"
  },
  "language_info": {
   "codemirror_mode": {
    "name": "ipython",
    "version": 3
   },
   "file_extension": ".py",
   "mimetype": "text/x-python",
   "name": "python",
   "nbconvert_exporter": "python",
   "pygments_lexer": "ipython3",
   "version": "3.11.5"
  }
 },
 "nbformat": 4,
 "nbformat_minor": 5
}
