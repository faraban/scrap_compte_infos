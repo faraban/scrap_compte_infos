{
 "cells": [
  {
   "cell_type": "code",
   "execution_count": 1,
   "id": "c4fd2162",
   "metadata": {},
   "outputs": [],
   "source": [
    "import pandas as pd\n",
    "import numpy as np\n",
    "from time import sleep\n",
    "from selenium import webdriver\n",
    "from selenium.webdriver.common.by import By\n",
    "from selenium.webdriver.common.keys import Keys\n",
    "from bs4 import BeautifulSoup as bs\n",
    "import requests as req"
   ]
  },
  {
   "cell_type": "code",
   "execution_count": 27,
   "id": "28d33582",
   "metadata": {},
   "outputs": [
    {
     "data": {
      "text/plain": [
       "'x1i10hfl.xjbqb8w.x6umtig.x1b1mbwd.xaqea5y.xav7gou.x9f619.x1ypdohk.xt0psk2.xe8uvvx.xdj266r.x11i5rnm.xat24cr.x1mh8g0r.xexx8yu.x4uap5.x18d9i69.xkhd6sd.x16tdsg8.x1hl2dhg.xggy1nq.x1a2a7pz._a6hd'"
      ]
     },
     "execution_count": 27,
     "metadata": {},
     "output_type": "execute_result"
    }
   ],
   "source": [
    "a='x1i10hfl xjbqb8w x6umtig x1b1mbwd xaqea5y xav7gou x9f619 x1ypdohk xt0psk2 xe8uvvx xdj266r x11i5rnm xat24cr x1mh8g0r xexx8yu x4uap5 x18d9i69 xkhd6sd x16tdsg8 x1hl2dhg xggy1nq x1a2a7pz _a6hd'\n",
    "a.replace(' ','.')"
   ]
  },
  {
   "cell_type": "code",
   "execution_count": 31,
   "id": "8b65209f",
   "metadata": {},
   "outputs": [],
   "source": [
    "def Takepages(compte,pwd,sujet):\n",
    "    \n",
    "    driver.get('https://www.instagram.com/')\n",
    "    sleep(2)\n",
    "    driver.find_element(By.NAME,'username').send_keys(compte)\n",
    "    driver.find_element(By.NAME,'password').send_keys(pwd)\n",
    "    driver.find_element(By.CLASS_NAME,'_acan._acap._acas._aj1-').submit()\n",
    "    sleep(30)\n",
    "    search=driver.find_element(By.CSS_SELECTOR,'.x1i10hfl.xjbqb8w.x6umtig.x1b1mbwd.xaqea5y.xav7gou.x9f619.x1ypdohk.xt0psk2.xe8uvvx.xdj266r.x11i5rnm.xat24cr.x1mh8g0r.xexx8yu.x4uap5.x18d9i69.xkhd6sd.x16tdsg8.x1hl2dhg.xggy1nq.x1a2a7pz._a6hd')\n",
    "    search.submit()  #send_keys(Keys.RETURN)\n",
    "#     search.send_keys(sujet)\n",
    "#     search.\n",
    "#     sleep(5)\n",
    "#     pag=driver.find_element(By.CSS_SELECTOR,'.x1i10hfl.xjbqb8w.x6umtig.x1b1mbwd.xaqea5y.xav7gou.x1ypdohk.xe8uvvx.xdj266r.x11i5rnm.xat24cr.x1mh8g0r.xexx8yu.x4uap5.x18d9i69.xkhd6sd.x16tdsg8.x1hl2dhg.xggy1nq.x1o1ewxj.x3x9cwd.x1e5q0jg.x13rtm0m.x87ps6o.x1lku1pv.x1a2a7pz.x9f619.x3nfvp2.xdt5ytf.xl56j7k.x1n2onr6.xh8yej3')\n",
    "#     url=pag.get_attribute('href')\n",
    "#     print(url)\n",
    "#     pag.click()\n",
    "#     sleep(2)\n",
    "#     driver.execute_script(f\"window.scrollTo(0, document.body.scrollHeight);\")\n",
    "#     sleep(2)\n",
    "#     pages=driver.find_elements(By.CSS_SELECTOR,'.x1yztbdb.x1d52u69.xktsk01')\n",
    "#     urls=[]\n",
    "#     noms=[]\n",
    "#     for url in pages:\n",
    "#         noms.append(url.text)\n",
    "#         urls.append(url.get_attribute('href'))"
   ]
  },
  {
   "cell_type": "code",
   "execution_count": 32,
   "id": "42a23bb8",
   "metadata": {},
   "outputs": [
    {
     "ename": "WebDriverException",
     "evalue": "Message: To submit an element, it must be nested inside a form element\n",
     "output_type": "error",
     "traceback": [
      "\u001b[1;31m---------------------------------------------------------------------------\u001b[0m",
      "\u001b[1;31mJavascriptException\u001b[0m                       Traceback (most recent call last)",
      "File \u001b[1;32m~\\ju\\Lib\\site-packages\\selenium\\webdriver\\remote\\webelement.py:110\u001b[0m, in \u001b[0;36mWebElement.submit\u001b[1;34m(self)\u001b[0m\n\u001b[0;32m    109\u001b[0m \u001b[38;5;28;01mtry\u001b[39;00m:\n\u001b[1;32m--> 110\u001b[0m     \u001b[38;5;28mself\u001b[39m\u001b[38;5;241m.\u001b[39m_parent\u001b[38;5;241m.\u001b[39mexecute_script(script, \u001b[38;5;28mself\u001b[39m)\n\u001b[0;32m    111\u001b[0m \u001b[38;5;28;01mexcept\u001b[39;00m JavascriptException \u001b[38;5;28;01mas\u001b[39;00m exc:\n",
      "File \u001b[1;32m~\\ju\\Lib\\site-packages\\selenium\\webdriver\\remote\\webdriver.py:404\u001b[0m, in \u001b[0;36mWebDriver.execute_script\u001b[1;34m(self, script, *args)\u001b[0m\n\u001b[0;32m    402\u001b[0m command \u001b[38;5;241m=\u001b[39m Command\u001b[38;5;241m.\u001b[39mW3C_EXECUTE_SCRIPT\n\u001b[1;32m--> 404\u001b[0m \u001b[38;5;28;01mreturn\u001b[39;00m \u001b[38;5;28mself\u001b[39m\u001b[38;5;241m.\u001b[39mexecute(command, {\u001b[38;5;124m\"\u001b[39m\u001b[38;5;124mscript\u001b[39m\u001b[38;5;124m\"\u001b[39m: script, \u001b[38;5;124m\"\u001b[39m\u001b[38;5;124margs\u001b[39m\u001b[38;5;124m\"\u001b[39m: converted_args})[\u001b[38;5;124m\"\u001b[39m\u001b[38;5;124mvalue\u001b[39m\u001b[38;5;124m\"\u001b[39m]\n",
      "File \u001b[1;32m~\\ju\\Lib\\site-packages\\selenium\\webdriver\\remote\\webdriver.py:344\u001b[0m, in \u001b[0;36mWebDriver.execute\u001b[1;34m(self, driver_command, params)\u001b[0m\n\u001b[0;32m    343\u001b[0m \u001b[38;5;28;01mif\u001b[39;00m response:\n\u001b[1;32m--> 344\u001b[0m     \u001b[38;5;28mself\u001b[39m\u001b[38;5;241m.\u001b[39merror_handler\u001b[38;5;241m.\u001b[39mcheck_response(response)\n\u001b[0;32m    345\u001b[0m     response[\u001b[38;5;124m\"\u001b[39m\u001b[38;5;124mvalue\u001b[39m\u001b[38;5;124m\"\u001b[39m] \u001b[38;5;241m=\u001b[39m \u001b[38;5;28mself\u001b[39m\u001b[38;5;241m.\u001b[39m_unwrap_value(response\u001b[38;5;241m.\u001b[39mget(\u001b[38;5;124m\"\u001b[39m\u001b[38;5;124mvalue\u001b[39m\u001b[38;5;124m\"\u001b[39m, \u001b[38;5;28;01mNone\u001b[39;00m))\n",
      "File \u001b[1;32m~\\ju\\Lib\\site-packages\\selenium\\webdriver\\remote\\errorhandler.py:229\u001b[0m, in \u001b[0;36mErrorHandler.check_response\u001b[1;34m(self, response)\u001b[0m\n\u001b[0;32m    228\u001b[0m     \u001b[38;5;28;01mraise\u001b[39;00m exception_class(message, screen, stacktrace, alert_text)  \u001b[38;5;66;03m# type: ignore[call-arg]  # mypy is not smart enough here\u001b[39;00m\n\u001b[1;32m--> 229\u001b[0m \u001b[38;5;28;01mraise\u001b[39;00m exception_class(message, screen, stacktrace)\n",
      "\u001b[1;31mJavascriptException\u001b[0m: Message: javascript error: Unable to find owning document\n  (Session info: chrome=119.0.6045.105)\nStacktrace:\n\tGetHandleVerifier [0x00007FF6530882B2+55298]\n\t(No symbol) [0x00007FF652FF5E02]\n\t(No symbol) [0x00007FF652EB05AB]\n\t(No symbol) [0x00007FF652EB509C]\n\t(No symbol) [0x00007FF652EB732A]\n\t(No symbol) [0x00007FF652F2B12B]\n\t(No symbol) [0x00007FF652F120AA]\n\t(No symbol) [0x00007FF652F2AAA4]\n\t(No symbol) [0x00007FF652F11E83]\n\t(No symbol) [0x00007FF652EE670A]\n\t(No symbol) [0x00007FF652EE7964]\n\tGetHandleVerifier [0x00007FF653400AAB+3694587]\n\tGetHandleVerifier [0x00007FF65345728E+4048862]\n\tGetHandleVerifier [0x00007FF65344F173+4015811]\n\tGetHandleVerifier [0x00007FF6531247D6+695590]\n\t(No symbol) [0x00007FF653000CE8]\n\t(No symbol) [0x00007FF652FFCF34]\n\t(No symbol) [0x00007FF652FFD062]\n\t(No symbol) [0x00007FF652FED3A3]\n\tBaseThreadInitThunk [0x00007FFD563E7344+20]\n\tRtlUserThreadStart [0x00007FFD574826B1+33]\n",
      "\nThe above exception was the direct cause of the following exception:\n",
      "\u001b[1;31mWebDriverException\u001b[0m                        Traceback (most recent call last)",
      "Cell \u001b[1;32mIn[32], line 5\u001b[0m\n\u001b[0;32m      3\u001b[0m pwd\u001b[38;5;241m=\u001b[39m\u001b[38;5;124m'\u001b[39m\u001b[38;5;124m##2411##\u001b[39m\u001b[38;5;124m'\u001b[39m\n\u001b[0;32m      4\u001b[0m sujet\u001b[38;5;241m=\u001b[39m\u001b[38;5;124m'\u001b[39m\u001b[38;5;124mALAYA OUARME\u001b[39m\u001b[38;5;124m'\u001b[39m\n\u001b[1;32m----> 5\u001b[0m pages\u001b[38;5;241m=\u001b[39mTakepages(compte,pwd,sujet)\n",
      "Cell \u001b[1;32mIn[31], line 10\u001b[0m, in \u001b[0;36mTakepages\u001b[1;34m(compte, pwd, sujet)\u001b[0m\n\u001b[0;32m      8\u001b[0m sleep(\u001b[38;5;241m30\u001b[39m)\n\u001b[0;32m      9\u001b[0m search\u001b[38;5;241m=\u001b[39mdriver\u001b[38;5;241m.\u001b[39mfind_element(By\u001b[38;5;241m.\u001b[39mCSS_SELECTOR,\u001b[38;5;124m'\u001b[39m\u001b[38;5;124m.x1i10hfl.xjbqb8w.x6umtig.x1b1mbwd.xaqea5y.xav7gou.x9f619.x1ypdohk.xt0psk2.xe8uvvx.xdj266r.x11i5rnm.xat24cr.x1mh8g0r.xexx8yu.x4uap5.x18d9i69.xkhd6sd.x16tdsg8.x1hl2dhg.xggy1nq.x1a2a7pz._a6hd\u001b[39m\u001b[38;5;124m'\u001b[39m)\n\u001b[1;32m---> 10\u001b[0m search\u001b[38;5;241m.\u001b[39msubmit()\n",
      "File \u001b[1;32m~\\ju\\Lib\\site-packages\\selenium\\webdriver\\remote\\webelement.py:112\u001b[0m, in \u001b[0;36mWebElement.submit\u001b[1;34m(self)\u001b[0m\n\u001b[0;32m    110\u001b[0m     \u001b[38;5;28mself\u001b[39m\u001b[38;5;241m.\u001b[39m_parent\u001b[38;5;241m.\u001b[39mexecute_script(script, \u001b[38;5;28mself\u001b[39m)\n\u001b[0;32m    111\u001b[0m \u001b[38;5;28;01mexcept\u001b[39;00m JavascriptException \u001b[38;5;28;01mas\u001b[39;00m exc:\n\u001b[1;32m--> 112\u001b[0m     \u001b[38;5;28;01mraise\u001b[39;00m WebDriverException(\u001b[38;5;124m\"\u001b[39m\u001b[38;5;124mTo submit an element, it must be nested inside a form element\u001b[39m\u001b[38;5;124m\"\u001b[39m) \u001b[38;5;28;01mfrom\u001b[39;00m \u001b[38;5;21;01mexc\u001b[39;00m\n",
      "\u001b[1;31mWebDriverException\u001b[0m: Message: To submit an element, it must be nested inside a form element\n"
     ]
    }
   ],
   "source": [
    "driver= webdriver.Chrome()\n",
    "compte='cl.faraban'\n",
    "pwd='##2411##'\n",
    "sujet='ALAYA OUARME'\n",
    "pages=Takepages(compte,pwd,sujet)"
   ]
  },
  {
   "cell_type": "code",
   "execution_count": null,
   "id": "1e7ef33b",
   "metadata": {},
   "outputs": [],
   "source": []
  }
 ],
 "metadata": {
  "kernelspec": {
   "display_name": "Python 3 (ipykernel)",
   "language": "python",
   "name": "python3"
  },
  "language_info": {
   "codemirror_mode": {
    "name": "ipython",
    "version": 3
   },
   "file_extension": ".py",
   "mimetype": "text/x-python",
   "name": "python",
   "nbconvert_exporter": "python",
   "pygments_lexer": "ipython3",
   "version": "3.11.5"
  }
 },
 "nbformat": 4,
 "nbformat_minor": 5
}
