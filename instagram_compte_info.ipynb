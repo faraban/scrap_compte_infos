{
 "cells": [
  {
   "cell_type": "code",
   "execution_count": 1,
   "id": "c4fd2162",
   "metadata": {},
   "outputs": [],
   "source": [
    "import pandas as pd\n",
    "import numpy as np\n",
    "from time import sleep\n",
    "from selenium import webdriver\n",
    "from selenium.webdriver.common.by import By\n",
    "from selenium.webdriver.common.keys import Keys\n",
    "from bs4 import BeautifulSoup as bs\n",
    "import requests as req"
   ]
  },
  {
   "cell_type": "code",
   "execution_count": 27,
   "id": "258e1415",
   "metadata": {},
   "outputs": [
    {
     "data": {
      "text/plain": [
       "'x1i10hfl.xjbqb8w.x6umtig.x1b1mbwd.xaqea5y.xav7gou.x9f619.x1ypdohk.xt0psk2.xe8uvvx.xdj266r.x11i5rnm.xat24cr.x1mh8g0r.xexx8yu.x4uap5.x18d9i69.xkhd6sd.x16tdsg8.x1hl2dhg.xggy1nq.x1a2a7pz._a6hd'"
      ]
     },
     "execution_count": 27,
     "metadata": {},
     "output_type": "execute_result"
    }
   ],
   "source": [
    "a='x1i10hfl xjbqb8w x6umtig x1b1mbwd xaqea5y xav7gou x9f619 x1ypdohk xt0psk2 xe8uvvx xdj266r x11i5rnm xat24cr x1mh8g0r xexx8yu x4uap5 x18d9i69 xkhd6sd x16tdsg8 x1hl2dhg xggy1nq x1a2a7pz _a6hd'\n",
    "a.replace(' ','.')"
   ]
  },
  {
   "cell_type": "code",
   "execution_count": 28,
   "id": "8b65209f",
   "metadata": {},
   "outputs": [],
   "source": [
    "def Takepages(compte,pwd,sujet):\n",
    "    \n",
    "    driver.get('https://www.instagram.com/')\n",
    "    sleep(2)\n",
    "    driver.find_element(By.NAME,'username').send_keys(compte)\n",
    "    driver.find_element(By.NAME,'password').send_keys(pwd)\n",
    "    driver.find_element(By.CLASS_NAME,'_acan._acap._acas._aj1-').submit()\n",
    "    sleep(30)\n",
    "    search=driver.find_element(By.CLASS_NAME,'x1i10hfl.xjbqb8w.x6umtig.x1b1mbwd.xaqea5y.xav7gou.x9f619.x1ypdohk.xt0psk2.xe8uvvx.xdj266r.x11i5rnm.xat24cr.x1mh8g0r.xexx8yu.x4uap5.x18d9i69.xkhd6sd.x16tdsg8.x1hl2dhg.xggy1nq.x1a2a7pz._a6hd')\n",
    "    search.submit()  #send_keys(Keys.RETURN)\n",
    "#     search.send_keys(sujet)\n",
    "#     search.\n",
    "#     sleep(5)\n",
    "#     pag=driver.find_element(By.CSS_SELECTOR,'.x1i10hfl.xjbqb8w.x6umtig.x1b1mbwd.xaqea5y.xav7gou.x1ypdohk.xe8uvvx.xdj266r.x11i5rnm.xat24cr.x1mh8g0r.xexx8yu.x4uap5.x18d9i69.xkhd6sd.x16tdsg8.x1hl2dhg.xggy1nq.x1o1ewxj.x3x9cwd.x1e5q0jg.x13rtm0m.x87ps6o.x1lku1pv.x1a2a7pz.x9f619.x3nfvp2.xdt5ytf.xl56j7k.x1n2onr6.xh8yej3')\n",
    "#     url=pag.get_attribute('href')\n",
    "#     print(url)\n",
    "#     pag.click()\n",
    "#     sleep(2)\n",
    "#     driver.execute_script(f\"window.scrollTo(0, document.body.scrollHeight);\")\n",
    "#     sleep(2)\n",
    "#     pages=driver.find_elements(By.CSS_SELECTOR,'.x1yztbdb.x1d52u69.xktsk01')\n",
    "#     urls=[]\n",
    "#     noms=[]\n",
    "#     for url in pages:\n",
    "#         noms.append(url.text)\n",
    "#         urls.append(url.get_attribute('href'))"
   ]
  },
  {
   "cell_type": "code",
   "execution_count": null,
   "id": "42a23bb8",
   "metadata": {},
   "outputs": [],
   "source": [
    "driver= webdriver.Chrome()\n",
    "compte='cl.faraban'\n",
    "pwd='##2411##'\n",
    "sujet='ALAYA OUARME'\n",
    "pages=Takepages(compte,pwd,sujet)"
   ]
  },
  {
   "cell_type": "code",
   "execution_count": null,
   "id": "1e7ef33b",
   "metadata": {},
   "outputs": [],
   "source": []
  }
 ],
 "metadata": {
  "kernelspec": {
   "display_name": "Python 3 (ipykernel)",
   "language": "python",
   "name": "python3"
  },
  "language_info": {
   "codemirror_mode": {
    "name": "ipython",
    "version": 3
   },
   "file_extension": ".py",
   "mimetype": "text/x-python",
   "name": "python",
   "nbconvert_exporter": "python",
   "pygments_lexer": "ipython3",
   "version": "3.11.5"
  }
 },
 "nbformat": 4,
 "nbformat_minor": 5
}
