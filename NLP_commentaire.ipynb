{
 "cells": [
  {
   "cell_type": "code",
   "execution_count": null,
   "id": "5aa88d64",
   "metadata": {},
   "outputs": [],
   "source": []
  },
  {
   "cell_type": "code",
   "execution_count": null,
   "id": "492eeff9",
   "metadata": {},
   "outputs": [],
   "source": [
    "def Takecomment(compte,pwd,sujet):\n",
    "    driver= webdriver.Chrome()\n",
    "    \n",
    "    driver.get('https://www.facebook.com/')\n",
    "    driver.find_element(By.ID,'email').send_keys(compte)\n",
    "    driver.find_element(By.ID,'pass').send_keys(pwd)\n",
    "    driver.find_element(By.NAME,'login').submit()\n",
    "    sleep(10)\n",
    "    \n",
    "    driver.get('https://web.facebook.com/amadoubalofficiel')\n",
    "    sleep(20)\n",
    "    \n",
    "#     pages=driver.find_elements(By.CSS_SELECTOR,'.x1i10hfl.xjbqb8w.x6umtig.x1b1mbwd.xaqea5y.xav7gou.x9f619.x1ypdohk.xt0psk2.xe8uvvx.xdj266r.x11i5rnm.xat24cr.x1mh8g0r.xexx8yu.x4uap5.x18d9i69.xkhd6sd.x16tdsg8.x1hl2dhg.xggy1nq.x1a2a7pz.xt0b8zv.xzsf02u.x1s688f')\n",
    "#     sujet=unidecode(sujet).upper()\n",
    "#     urls=[]\n",
    "    \n",
    "#     for i in range(len(pages)):\n",
    "#         try:\n",
    "#             nom=unidecode(pages[i].text).upper()\n",
    "#             if nom==f'{suj}':\n",
    "#                 urls.append(pages[i].get_attribute('href'))\n",
    "#         except:\n",
    "#             continue"
   ]
  },
  {
   "cell_type": "code",
   "execution_count": null,
   "id": "7dc5a5a9",
   "metadata": {},
   "outputs": [],
   "source": [
    "compte = 'a.abdoul.ndiaye@gmail.com'\n",
    "pwd = '*123Passer*' \n",
    "sujet = 'Amadou Ba'\n",
    "Takecomment(compte,pwd,sujet)"
   ]
  },
  {
   "cell_type": "code",
   "execution_count": null,
   "id": "e431249e",
   "metadata": {},
   "outputs": [],
   "source": [
    "a='//*[@id=\"mount_0_0_SK\"]/div/div[1]/div/div[3]/div/div/div[1]/div[1]/div/div/div/div/div/div/div/div/div/div/div/div/div/div[8]/div/div/div[4]/div/div/div[2]/div[3]/div[52]/div[1]/div/div[2]'\n",
    "a.replace(' ','.')"
   ]
  },
  {
   "cell_type": "code",
   "execution_count": null,
   "id": "7484f6d5",
   "metadata": {},
   "outputs": [],
   "source": [
    "driver= webdriver.Chrome()\n",
    "\n",
    "driver.get('https://www.facebook.com/')\n",
    "\n",
    "driver.find_element(By.ID,'email').send_keys(compte)\n",
    "driver.find_element(By.ID,'pass').send_keys(pwd)\n",
    "driver.find_element(By.NAME,'login').submit()\n",
    "sleep(5)\n",
    "\n",
    "driver.get('https://web.facebook.com/amadoubalofficiel')\n",
    "sleep(2)\n",
    "     \n",
    "pag=driver.find_elements(By.CSS_SELECTOR,'.x1i10hfl.xjbqb8w.x6umtig.x1b1mbwd.xaqea5y.xav7gou.x9f619.x1ypdohk.xt0psk2.xe8uvvx.xdj266r.x11i5rnm.xat24cr.x1mh8g0r.xexx8yu.x4uap5.x18d9i69.xkhd6sd.x16tdsg8.x1hl2dhg.xggy1nq.x1a2a7pz.x1heor9g.xt0b8zv.xo1l8bm')\n",
    "print(len(pag))\n",
    "for i in range(len(pag)):\n",
    "    pag[i].click()\n",
    "    sleep(5)\n",
    "    driver.back()\n",
    "#plus=driver.find_element(By.XPATH,'/html/body/div[1]/div/div[1]/div/div[3]/div/div/div[1]/div[1]/div/div/div/div/div/div/div/div/div/div/div/div/div/div[8]/div/div/div[4]/div/div/div[2]/div[3]/div[52]/div[1]/div/div[2]')\n",
    "# while plus:\n",
    "#     \n",
    "#     sleep(2)\n",
    "#     for i in range(3):\n",
    "#             driver.execute_script(\"window.scrollTo(0, document.body.scrollHeight);\")\n",
    "#             sleep(1)\n",
    "#     sleep(2)\n",
    "#     comments=driver.find_elements(By.CLASS_NAME,'x1lliihq xjkvuk6 x1iorvi4')\n",
    "#     print(len(comments))\n",
    "#     try:\n",
    "#         plus=driver.find_element(By.XPATH,'/html/body/div[1]/div/div[1]/div/div[3]/div/div/div[1]/div[1]/div/div/div/div/div/div/div/div/div/div/div/div/div/div[8]/div/div/div[4]/div/div/div[2]/div[3]/div[102]/div[1]/div/div[2]')\n",
    "#     except:\n",
    "#         plus=''"
   ]
  },
  {
   "cell_type": "code",
   "execution_count": null,
   "id": "31969269",
   "metadata": {},
   "outputs": [],
   "source": []
  }
 ],
 "metadata": {
  "kernelspec": {
   "display_name": "Python 3 (ipykernel)",
   "language": "python",
   "name": "python3"
  },
  "language_info": {
   "codemirror_mode": {
    "name": "ipython",
    "version": 3
   },
   "file_extension": ".py",
   "mimetype": "text/x-python",
   "name": "python",
   "nbconvert_exporter": "python",
   "pygments_lexer": "ipython3",
   "version": "3.11.5"
  }
 },
 "nbformat": 4,
 "nbformat_minor": 5
}
